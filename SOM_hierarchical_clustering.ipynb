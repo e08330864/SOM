{
 "cells": [
  {
   "cell_type": "markdown",
   "source": [
    "# Hierarchical clustering implementation for SOMLib"
   ],
   "metadata": {
    "collapsed": false,
    "pycharm": {
     "name": "#%% md\n"
    }
   }
  },
  {
   "cell_type": "markdown",
   "source": [
    "### import necessary libraries"
   ],
   "metadata": {
    "collapsed": false
   }
  },
  {
   "cell_type": "code",
   "execution_count": 22,
   "metadata": {
    "collapsed": true,
    "pycharm": {
     "is_executing": false
    }
   },
   "outputs": [],
   "source": [
    "from sklearn.cluster import AgglomerativeClustering\n",
    "from scipy.cluster.hierarchy import dendrogram\n",
    "import numpy as np\n",
    "import matplotlib.pyplot as plt"
   ]
  },
  {
   "cell_type": "markdown",
   "source": [
    "## Class definition of own hierarchical clustering class"
   ],
   "metadata": {
    "collapsed": false,
    "pycharm": {
     "name": "#%% md\n"
    }
   }
  },
  {
   "cell_type": "code",
   "execution_count": 60,
   "outputs": [],
   "source": [
    "class MyHierarchicalClusteringOnSOMLib:\n",
    "    \"\"\"\n",
    "    MyHierarchicalClusteringOnSOMLib:\n",
    "        Loads a trained SOM from a SOMLib-UNIT file and \n",
    "        performs a hierarchical clustering on it.\n",
    "        \n",
    "        The data file can be state directly here as the parameter \"filePath\" or later on with the load_data(filePath)-function.\n",
    "        After loading the data, the hierarchical clustering algorithm has to be fitted with fit()-function.\n",
    "        After the fitting step, the clustered SOM can be visualized with the function show_hier_clust_plot()-function. \n",
    "        \n",
    "        The hierarchical clustering algorithm is from sklearn and has the following parameters:\n",
    "            n_clusters : int or None, default=2\n",
    "                The number of clusters to find. It must be None if distance_threshold is not None.\n",
    "\n",
    "            linkage :{“ward”, “complete”, “average”, “single”}, default=”ward”\n",
    "                Which linkage criterion to use. The linkage criterion determines which distance to use between sets of observation. The algorithm will merge the pairs of cluster that minimize this criterion.\n",
    "                    “ward” - ward minimizes the variance of the clusters being merged.\n",
    "                    “average” - average uses the average of the distances of each observation of the two sets.\n",
    "                    “complete” - complete or maximum linkage uses the maximum distances between all observations of the two sets.\n",
    "                    “single” - single uses the minimum of the distances between all observations of the two sets.\n",
    "                    \n",
    "            distance_threshold : float, default=None\n",
    "                The linkage distance threshold above which, clusters will not be merged. If not None, n_clusters must be None and compute_full_tree must be True.\n",
    "                \n",
    "            random_state : int, RandomState instance or None (default)\n",
    "                Determines random number generation for centroid initialization. Use\n",
    "                an int to make the randomness deterministic.\n",
    "                See :term:`Glossary <random_state>`.\n",
    "    \"\"\"\n",
    "    \n",
    "    def __init__(self, n_clusters=2, filePath:str=None, \n",
    "                 linkage='ward', distance_threshold=None,\n",
    "                 random_state=None):\n",
    "        \n",
    "        self.hier_clust = AgglomerativeClustering(n_clusters=n_clusters, linkage=linkage, \n",
    "                                                  distance_threshold=distance_threshold)\n",
    "        self.n_clusters = n_clusters\n",
    "        self.linkage = linkage\n",
    "        self.distance_threshold = distance_threshold\n",
    "        self.random_state = random_state\n",
    "        \n",
    "        self.valid_data = False\n",
    "        self.fitted = False\n",
    "        self.xdim = 0\n",
    "        self.ydim = 0\n",
    "        self.zdim = 0\n",
    "        self.vec_dim = 0\n",
    "        self.unit = None\n",
    "        self.unit_map = None\n",
    "        self.unit_map_cluster_assignment = None\n",
    "        self.weight_map = None\n",
    "        if filePath is not None:\n",
    "            self.load_files(filePath)\n",
    "    \n",
    "    def load_files(self, filePath:str):\n",
    "        \"\"\"\n",
    "        Loads all necessary SOMLib files and created the unit map for the hierarchical fitting process\n",
    "        :param filePath: path to the SOMLib-UNIT/-MAP/-WGT files (filename extension not necessary) \n",
    "        :return: None\n",
    "        \"\"\"\n",
    "        if filePath.lower().endswith('.unit') or \\\n",
    "            filePath.lower().endswith('.map') or \\\n",
    "            filePath.lower().endswith('.wgt'):\n",
    "            filePath = ''.join(filePath.split('.')[:-1])\n",
    "        self._load_unit_file(filePath)\n",
    "        #self._load_wgt_file(filePath)\n",
    "        #self._load_map_file(filePath)\n",
    "        self._create_unit_map()\n",
    "        self.valid_data = True\n",
    "        self.fitted = False\n",
    "        \n",
    "    def fit(self, weighted=False):\n",
    "        \"\"\"\n",
    "        Fits the hierarchical clustering algorithm to the previously loaded SOMLib files.\n",
    "        \n",
    "        Throws exception if SOMLib files are not loaded. \n",
    "        :param weighted: boolean, default=False, If True fits the hierarchical clustering algorithm with the weighted cell, this means that more dense cells have a higher weight.\n",
    "        :return: None \n",
    "        \"\"\"\n",
    "        if not self.valid_data:\n",
    "            raise Exception(\"The data files need to be loaded before fitting the k-means clusters! Use load_files(filePath:str)!\")\n",
    "        if weighted:\n",
    "            raise NotImplemented()\n",
    "            self.unit_map_cluster_assignment = \\\n",
    "                self.hier_clust.fit_predict(self.unit_map, sample_weight=self.weight_map)\n",
    "        else:\n",
    "            self.unit_map_cluster_assignment = \\\n",
    "                self.hier_clust.fit_predict(self.unit_map)\n",
    "            \n",
    "        self.fitted = True\n",
    "\n",
    "    def plot_dendrogram(self):\n",
    "        # Create linkage matrix and then plot the dendrogram\n",
    "        # create the counts of samples under each node\n",
    "        counts = np.zeros(self.hier_clust.children_.shape[0])\n",
    "        n_samples = len(self.hier_clust.labels_)\n",
    "        for i, merge in enumerate(self.hier_clust.children_):\n",
    "            current_count = 0\n",
    "            for child_idx in merge:\n",
    "                if child_idx < n_samples:\n",
    "                    current_count += 1  # leaf node\n",
    "                else:\n",
    "                    current_count += counts[child_idx - n_samples]\n",
    "            counts[i] = current_count\n",
    "    \n",
    "        linkage_matrix = np.column_stack([self.hier_clust.children_, range(len(self.hier_clust.children_)),\n",
    "                                          counts]).astype(float)\n",
    "    \n",
    "        # Plot the corresponding dendrogram\n",
    "        dendrogram(linkage_matrix)\n",
    "\n",
    "    def get_cluster_centers(self):\n",
    "        \"\"\"\n",
    "        Returns the centers for the trained clusters.\n",
    "        \n",
    "        Throws exception if the hierarchical clustering algorithm is not fitted.\n",
    "        :return: array-like shape(k,)\n",
    "        \"\"\"\n",
    "        if not self.fitted:\n",
    "            raise Exception(\"The hierarchical clusters need to be fitted before getting the centers! Use fit()!\")\n",
    "        \n",
    "        for child in self.hier_clust.children_:\n",
    "            print (child)\n",
    "        return self.hier_clust.cluster_centers_\n",
    "    \n",
    "    def get_hier_clust_plot(self, grid=True, density=True, link_clusters=True, threshold=0.6):\n",
    "        if not self.fitted:\n",
    "            raise Exception(\"The hierarchical clusters need to be fitted before plotting! Use fit()!\")\n",
    "        plt.figure(figsize=(20,20))\n",
    "        colors = plt.rcParams['axes.prop_cycle'].by_key()['color']\n",
    "        plt.xlim(0 - 0.5, self.xdim - 0.5)\n",
    "        plt.ylim(0 - 0.5, self.ydim - 0.5)\n",
    "        plt.xticks(np.arange(0, self.xdim, 1))\n",
    "        plt.yticks(np.arange(0, self.ydim, 1))\n",
    "                \n",
    "        max_dense_cell = np.max(self.weight_map)\n",
    "        for cluster_id in range(self.n_clusters):\n",
    "            if not density:\n",
    "                ratio = np.ones(len(self.unit_map))\n",
    "            else:\n",
    "                ratio = np.sqrt(1. / max_dense_cell * \\\n",
    "                        self.weight_map[self.unit_map_cluster_assignment == cluster_id])\n",
    "            for unit_id, unit in \\\n",
    "                enumerate(self.unit_map[self.unit_map_cluster_assignment == cluster_id]):\n",
    "                plt.fill_between([unit[0] - (0.5 * ratio[unit_id]), \n",
    "                                  unit[0] + (0.5 * ratio[unit_id])], \n",
    "                                 [unit[1] - (0.5 * ratio[unit_id]), \n",
    "                                  unit[1] - (0.5 * ratio[unit_id])], \n",
    "                                 [unit[1] + (0.5 * ratio[unit_id]), \n",
    "                                  unit[1] + (0.5 * ratio[unit_id])],\n",
    "                                 color= colors[cluster_id % len(colors)])\n",
    "        \n",
    "        if grid:\n",
    "            for v in range(self.xdim):\n",
    "                plt.plot([v - 0.5, v - 0.5], [0 - 0.5, self.ydim - 0.5], color=\"black\", linewidth=2)\n",
    "            for h in range(self.ydim):\n",
    "                plt.plot([0 - 0.5, self.xdim - 0.5], [h - 0.5, h - 0.5], color=\"black\", linewidth=2)\n",
    "        \n",
    "        for cluster_id in np.sort(np.unique(self.unit_map_cluster_assignment)):\n",
    "            plt.plot([-10],[-10],\n",
    "                     color= colors[cluster_id % len(colors)],\n",
    "                     label=\"Cluster {}\".format(cluster_id+1))\n",
    "        \n",
    "        plt.legend(loc='center left', bbox_to_anchor=(1.05, 0.5))\n",
    "        return plt\n",
    "        \n",
    "    def _create_unit_map(self):\n",
    "        \"\"\"\n",
    "        Internal method to create the unit map, \n",
    "        which is needed for the fitting of the hierarchical clustering algorithm\n",
    "        :return: None \n",
    "        \"\"\"\n",
    "        unit_map = []\n",
    "        weight_map = []\n",
    "        for cell in self.unit:\n",
    "            if cell['nr_vec_mapped'] != 0:\n",
    "                unit_map.append([cell['x'], cell['y'], cell['z']])\n",
    "                weight_map.append(cell['nr_vec_mapped'])\n",
    "        self.unit_map = np.array(unit_map)\n",
    "        self.weight_map = np.array(weight_map)\n",
    "     \n",
    "    def _load_unit_file(self, filePath:str):\n",
    "        \"\"\"\n",
    "        Internal Method to load the SOMLib UNIT-file.\n",
    "        :param filePath: path to the SOMLib UNIT-file without the file extension\n",
    "        :return: None\n",
    "        \"\"\"\n",
    "        try:\n",
    "            with open(filePath + '.unit', 'r') as file:\n",
    "                self.unit = []\n",
    "                \n",
    "                x, y, z = -1, -1, -1\n",
    "                unit_id = \"\"\n",
    "                quanterror_unit, quanterror_unit_avg = -1., 0.\n",
    "                nr_vec_mapped = -1\n",
    "                mapped_vecs = []\n",
    "                mapped_vecs_dist = []\n",
    "                \n",
    "                for line in file:\n",
    "                    if line[0] == '#' or \\\n",
    "                            line.lower().startswith('$type') or \\\n",
    "                            line.lower().startswith('$file_format_version') or \\\n",
    "                            line.lower().startswith('$mapped_vecs\\n'):\n",
    "                        continue\n",
    "                    elif line.lower().startswith('$xdim'):\n",
    "                        self.xdim = int(line.strip().split(' ')[-1])\n",
    "                    elif line.lower().startswith('$ydim'):\n",
    "                        self.ydim = int(line.strip().split(' ')[-1])\n",
    "                    elif line.lower().startswith('$zdim'):\n",
    "                        self.zdim = int(line.strip().split(' ')[-1])\n",
    "                    elif line.lower().startswith('$vec_dim'):\n",
    "                        self.vec_dim = int(line.strip().split(' ')[-1])\n",
    "                    elif line.lower().startswith('$pos_x'):\n",
    "                        x = int(line.strip().split(' ')[-1])\n",
    "                    elif line.lower().startswith('$pos_y'):\n",
    "                        y = int(line.strip().split(' ')[-1])\n",
    "                    elif line.lower().startswith('$pos_z'):\n",
    "                        z = int(line.strip().split(' ')[-1])\n",
    "                    elif line.lower().startswith('$unit_id'):\n",
    "                        unit_id = line.strip().split(' ')[-1]\n",
    "                    elif line.lower().startswith('$quanterror_unit'):\n",
    "                        quanterror_unit = float(line.strip().split(' ')[-1])\n",
    "                    elif line.lower().startswith('$quanterror_unit_avg'):\n",
    "                        quanterror_unit_avg = float(line.strip().split(' ')[-1])\n",
    "                    elif line.lower().startswith('$nr_vec_mapped'):\n",
    "                        nr_vec_mapped = int(line.strip().split(' ')[-1])\n",
    "                        if nr_vec_mapped is 0:\n",
    "                            self._add_to_unit(unit_id=unit_id, x=x, y=y, z=z, \n",
    "                                          quanterror_unit=quanterror_unit, \n",
    "                                          quanterror_unit_avg=quanterror_unit_avg, \n",
    "                                          nr_vec_mapped=nr_vec_mapped, \n",
    "                                          mapped_vecs=mapped_vecs, \n",
    "                                          mapped_vecs_dist=mapped_vecs_dist)\n",
    "                            x, y, z = -1, -1, -1\n",
    "                            unit_id = \"\"\n",
    "                            quanterror_unit, quanterror_unit_avg = -1., 0.\n",
    "                            nr_vec_mapped = -1\n",
    "                            mapped_vecs = []\n",
    "                            mapped_vecs_dist = []\n",
    "                    elif line.lower().startswith('$mapped_vecs_dist'):\n",
    "                        mapped_vecs_dist.append(list(map(float, line.strip().split(' ')[1:])))\n",
    "                        self._add_to_unit(unit_id=unit_id, x=x, y=y, z=z, \n",
    "                                          quanterror_unit=quanterror_unit, \n",
    "                                          quanterror_unit_avg=quanterror_unit_avg, \n",
    "                                          nr_vec_mapped=nr_vec_mapped, \n",
    "                                          mapped_vecs=mapped_vecs, \n",
    "                                          mapped_vecs_dist=mapped_vecs_dist)\n",
    "                        x, y, z = -1, -1, -1\n",
    "                        unit_id = \"\"\n",
    "                        quanterror_unit, quanterror_unit_avg = -1., 0.\n",
    "                        nr_vec_mapped = -1\n",
    "                        mapped_vecs = []\n",
    "                        mapped_vecs_dist = []\n",
    "                    else:\n",
    "                        mapped_vecs.append(int(line.strip()))\n",
    "        except OSError:\n",
    "            raise Exception('File {} couldn\\'t be opened'.format(filePath + '.map'))\n",
    "        \n",
    "    def _add_to_unit(self, unit_id, x, y, z, quanterror_unit, \n",
    "                     quanterror_unit_avg, nr_vec_mapped, mapped_vecs, \n",
    "                     mapped_vecs_dist):\n",
    "        \"\"\"\n",
    "        Creates a UNIT with all properties from the SOMLib UNIT-file and adds it to the units-List\n",
    "        :param unit_id: unit_id of the unit\n",
    "        :param x: X-coordinate of the unit\n",
    "        :param y: Y-coordinate of the unit\n",
    "        :param z: Z-coordinate of the unit\n",
    "        :param quanterror_unit: Quant error of the unit\n",
    "        :param quanterror_unit_avg: Average quant error of the unit\n",
    "        :param nr_vec_mapped: Number of mapped vertices to this unit\n",
    "        :param mapped_vecs: List of mapped vertices of the unit\n",
    "        :param mapped_vecs_dist: List of the mapped vertices distance\n",
    "        :return: None\n",
    "        \"\"\"\n",
    "        self.unit.append({\n",
    "            'unit_id': unit_id,\n",
    "            'x': x,\n",
    "            'y': y, \n",
    "            'z': z,\n",
    "            'quanterror_unit': quanterror_unit,\n",
    "            'quanterror_unit_avg': quanterror_unit_avg,\n",
    "            'nr_vec_mapped': nr_vec_mapped,\n",
    "            'mapped_vecs': mapped_vecs,\n",
    "            'mapped_vecs_dist': mapped_vecs_dist\n",
    "        })\n",
    "    \n",
    "    def _load_wgt_file(self, filePath:str):\n",
    "        \"\"\"\n",
    "        Loads the SOMLib WGT-file:\n",
    "        ATTENTION: Currently not implemented!\n",
    "        :param filePath: path to the SOMLib WGT-file without the file extension\n",
    "        :return: None\n",
    "        \"\"\"\n",
    "        try:\n",
    "            with open(filePath + '.wgt', 'r') as file:\n",
    "                for line in file:\n",
    "                    if line[0] == '#' or line.lower().startswith('$type'):\n",
    "                        continue\n",
    "                    elif line.lower().startswith('$xdim'):\n",
    "                        self.xdim = int(line.strip().split(' ')[-1])\n",
    "                    elif line.lower().startswith('$ydim'):\n",
    "                        self.ydim = int(line.strip().split(' ')[-1])\n",
    "                    elif line.lower().startswith('$zdim'):\n",
    "                        self.zdim = int(line.strip().split(' ')[-1])\n",
    "                    elif line.lower().startswith('$vec_dim'):\n",
    "                        self.vec_dim = int(line.strip().split(' ')[-1])\n",
    "                    else:\n",
    "                        raise NotImplemented()                       \n",
    "        except OSError:\n",
    "            raise Exception('File {} couldn\\'t be opened'.format(filePath + '.map'))\n",
    "\n",
    "    def _load_map_file(self, filePath:str):\n",
    "        \"\"\"\n",
    "        Loads the SOMLib MAP-file:\n",
    "        ATTENTION: Currently not implemented!\n",
    "        :param filePath: path to the SOMLib MAP-file without the file extension\n",
    "        :return: None\n",
    "        \"\"\"\n",
    "        try:\n",
    "            raise NotImplemented()\n",
    "        except OSError:\n",
    "            raise Exception('File {} couldn\\'t be opened'.format(filePath + '.map'))\n",
    "    "
   ],
   "metadata": {
    "collapsed": false,
    "pycharm": {
     "name": "#%%\n",
     "is_executing": false
    }
   }
  },
  {
   "cell_type": "markdown",
   "source": [
    "## Example section"
   ],
   "metadata": {
    "collapsed": false
   }
  },
  {
   "cell_type": "markdown",
   "source": [
    "### provide some static variables"
   ],
   "metadata": {
    "collapsed": false
   }
  },
  {
   "cell_type": "code",
   "execution_count": 61,
   "outputs": [],
   "source": [
    "path_10clusters = 'data/10clusters/output/10clusters'\n",
    "path_chainlink = 'data/chainlink/output/chainlink'\n",
    "path_10clusters_own = 'data/10clusters/output/10clusters_{}_{}_{}_{}_pca'\n",
    "path_chainlink_own = 'data/chainlink/output/chainlink_{}_{}_{}_{}_pca'\n",
    "\n",
    "sizes = [(20, 25), (100, 60)]\n",
    "sigmas = [0.1, 2.3, 10]\n",
    "learning_rates = [0.01, 0.2, 5]"
   ],
   "metadata": {
    "collapsed": false,
    "pycharm": {
     "name": "#%%\n",
     "is_executing": false
    }
   }
  },
  {
   "cell_type": "markdown",
   "source": [
    "### 10clusters dataset"
   ],
   "metadata": {
    "collapsed": false
   }
  },
  {
   "cell_type": "code",
   "execution_count": 62,
   "outputs": [],
   "source": [
    "clusters_hier_clust = MyHierarchicalClusteringOnSOMLib(n_clusters=10, linkage='single', \n",
    "                                                  distance_threshold=None, random_state=42)\n",
    "clusters_hier_clust.load_files(filePath=path_10clusters)\n",
    "clusters_hier_clust.fit()"
   ],
   "metadata": {
    "collapsed": false,
    "pycharm": {
     "name": "#%%\n",
     "is_executing": false
    }
   }
  },
  {
   "cell_type": "code",
   "execution_count": 63,
   "outputs": [
    {
     "data": {
      "text/plain": "<Figure size 432x288 with 1 Axes>",
      "image/png": "[encoded data removed]"
     },
     "metadata": {
      "needs_background": "light"
     },
     "output_type": "display_data"
    }
   ],
   "source": [
    "clusters_hier_clust.plot_dendrogram()"
   ],
   "metadata": {
    "collapsed": false,
    "pycharm": {
     "name": "#%%\n",
     "is_executing": false
    }
   }
  },
  {
   "cell_type": "code",
   "execution_count": 64,
   "outputs": [
    {
     "data": {
      "text/plain": "<Figure size 1440x1440 with 1 Axes>",
      "image/png": "[encoded data removed]"
     },
     "metadata": {
      "needs_background": "light"
     },
     "output_type": "display_data"
    }
   ],
   "source": [
    "clusters_hier_clust.get_hier_clust_plot(grid=True, density=True, link_clusters=True, threshold=0.7).show()\n"
   ],
   "metadata": {
    "collapsed": false,
    "pycharm": {
     "name": "#%%\n",
     "is_executing": false
    }
   }
  },
  {
   "cell_type": "code",
   "execution_count": null,
   "outputs": [],
   "source": [
    "\n"
   ],
   "metadata": {
    "collapsed": false,
    "pycharm": {
     "name": "#%%\n"
    }
   }
  }
 ],
 "metadata": {
  "kernelspec": {
   "display_name": "Python 3",
   "language": "python",
   "name": "python3"
  },
  "language_info": {
   "codemirror_mode": {
    "name": "ipython",
    "version": 2
   },
   "file_extension": ".py",
   "mimetype": "text/x-python",
   "name": "python",
   "nbconvert_exporter": "python",
   "pygments_lexer": "ipython2",
   "version": "2.7.6"
  },
  "pycharm": {
   "stem_cell": {
    "cell_type": "raw",
    "source": [],
    "metadata": {
     "collapsed": false
    }
   }
  }
 },
 "nbformat": 4,
 "nbformat_minor": 0
}