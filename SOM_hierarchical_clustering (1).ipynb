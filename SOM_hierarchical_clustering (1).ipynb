{
 "cells": [
  {
   "cell_type": "markdown",
   "metadata": {
    "pycharm": {
     "name": "#%% md\n"
    }
   },
   "source": [
    "# Hierarchical clustering implementation for SOMLib"
   ]
  },
  {
   "cell_type": "markdown",
   "metadata": {},
   "source": [
    "### import necessary libraries"
   ]
  },
  {
   "cell_type": "code",
   "execution_count": 1,
   "metadata": {
    "pycharm": {
     "is_executing": false
    }
   },
   "outputs": [],
   "source": [
    "from sklearn.cluster import AgglomerativeClustering\n",
    "from scipy.cluster.hierarchy import dendrogram\n",
    "import numpy as np\n",
    "import matplotlib.pyplot as plt"
   ]
  },
  {
   "cell_type": "markdown",
   "metadata": {
    "pycharm": {
     "name": "#%% md\n"
    }
   },
   "source": [
    "## Class definition of own hierarchical clustering class"
   ]
  },
  {
   "cell_type": "code",
   "execution_count": 2,
   "metadata": {
    "pycharm": {
     "is_executing": false,
     "name": "#%%\n"
    }
   },
   "outputs": [],
   "source": [
    "class MyHierarchicalClusteringOnSOMLib:\n",
    "    \"\"\"\n",
    "    MyHierarchicalClusteringOnSOMLib:\n",
    "        Loads a trained SOM from a SOMLib-UNIT file and \n",
    "        performs a hierarchical clustering on it.\n",
    "        \n",
    "        The data file can be state directly here as the parameter \"filePath\" or later on with the load_data(filePath)-function.\n",
    "        After loading the data, the hierarchical clustering algorithm has to be fitted with fit()-function.\n",
    "        After the fitting step, the clustered SOM can be visualized with the function show_hier_clust_plot()-function. \n",
    "        \n",
    "        The hierarchical clustering algorithm is from sklearn and has the following parameters:\n",
    "            n_clusters : int or None, default=2\n",
    "                The number of clusters to find. It must be None if distance_threshold is not None.\n",
    "\n",
    "            linkage :{“ward”, “complete”, “average”, “single”}, default=”ward”\n",
    "                Which linkage criterion to use. The linkage criterion determines which distance to use between sets of observation. The algorithm will merge the pairs of cluster that minimize this criterion.\n",
    "                    “ward” - ward minimizes the variance of the clusters being merged.\n",
    "                    “average” - average uses the average of the distances of each observation of the two sets.\n",
    "                    “complete” - complete or maximum linkage uses the maximum distances between all observations of the two sets.\n",
    "                    “single” - single uses the minimum of the distances between all observations of the two sets.\n",
    "                    \n",
    "            distance_threshold : float, default=None\n",
    "                The linkage distance threshold above which, clusters will not be merged. If not None, n_clusters must be None and compute_full_tree must be True.\n",
    "                \n",
    "            random_state : int, RandomState instance or None (default)\n",
    "                Determines random number generation for centroid initialization. Use\n",
    "                an int to make the randomness deterministic.\n",
    "                See :term:`Glossary <random_state>`.\n",
    "    \"\"\"\n",
    "    \n",
    "    def __init__(self, n_clusters=2, filePath:str=None, \n",
    "                 linkage='ward', distance_threshold=None,\n",
    "                 random_state=None):\n",
    "        \n",
    "        self.hier_clust = AgglomerativeClustering(n_clusters=n_clusters, linkage=linkage, \n",
    "                                                  distance_threshold=distance_threshold)\n",
    "        self.n_clusters = n_clusters\n",
    "        self.linkage = linkage\n",
    "        self.distance_threshold = distance_threshold\n",
    "        self.random_state = random_state\n",
    "        \n",
    "        self.valid_data = False\n",
    "        self.fitted = False\n",
    "        self.xdim = 0\n",
    "        self.ydim = 0\n",
    "        self.zdim = 0\n",
    "        self.vec_dim = 0\n",
    "        self.unit = None\n",
    "        self.unit_map = None\n",
    "        self.unit_map_cluster_assignment = None\n",
    "        self.weight_map = None\n",
    "        if filePath is not None:\n",
    "            self.load_files(filePath)\n",
    "    \n",
    "    def load_files(self, filePath:str):\n",
    "        \"\"\"\n",
    "        Loads all necessary SOMLib files and created the unit map for the hierarchical fitting process\n",
    "        :param filePath: path to the SOMLib-UNIT/-MAP/-WGT files (filename extension not necessary) \n",
    "        :return: None\n",
    "        \"\"\"\n",
    "        # check filePath isn't already with the file ending\n",
    "        if filePath.lower().endswith('.unit') or \\\n",
    "            filePath.lower().endswith('.map') or \\\n",
    "            filePath.lower().endswith('.wgt'):\n",
    "            filePath = ''.join(filePath.split('.')[:-1])\n",
    "        # load data from the unit file\n",
    "        self._load_unit_file(filePath)\n",
    "        #self._load_wgt_file(filePath)\n",
    "        #self._load_map_file(filePath)\n",
    "        \n",
    "        # create unit map only with cells which got points on them\n",
    "        self._create_unit_map()\n",
    "        # set check boolean if data is correctly loaded to True\n",
    "        self.valid_data = True\n",
    "        # set check boolean if data is correctly fitted to False\n",
    "        self.fitted = False\n",
    "        \n",
    "    def fit(self, weighted=False):\n",
    "        \"\"\"\n",
    "        Fits the hierarchical clustering algorithm to the previously loaded SOMLib files.\n",
    "        \n",
    "        Throws exception if SOMLib files are not loaded. \n",
    "        :param weighted: boolean, default=False, If True fits the hierarchical clustering algorithm with the weighted cell, this means that more dense cells have a higher weight.\n",
    "        :return: None \n",
    "        \"\"\"\n",
    "        if not self.valid_data:\n",
    "            raise Exception(\"The data files need to be loaded before fitting the k-means clusters! Use load_files(filePath:str)!\")\n",
    "        if weighted:\n",
    "            # As the hierarchical clustering algorithm does not have a weighted implementation, we do not offer it\n",
    "            # But it could be added as a future work.\n",
    "            raise NotImplemented()\n",
    "        else:\n",
    "            # number of point per cell is ignored, each cell that has at least 1 point on it counts the same\n",
    "            self.unit_map_cluster_assignment = \\\n",
    "                self.hier_clust.fit_predict(self.unit_map)\n",
    "            \n",
    "        # set check boolean if data is correctly fitted to True\n",
    "        self.fitted = True\n",
    "\n",
    "    def plot_dendrogram(self):\n",
    "        # Create linkage matrix and then plot the dendrogram\n",
    "        # create the counts of samples under each node\n",
    "        counts = np.zeros(self.hier_clust.children_.shape[0])\n",
    "        n_samples = len(self.hier_clust.labels_)\n",
    "        for i, merge in enumerate(self.hier_clust.children_):\n",
    "            current_count = 0\n",
    "            for child_idx in merge:\n",
    "                if child_idx < n_samples:\n",
    "                    current_count += 1  # leaf node\n",
    "                else:\n",
    "                    current_count += counts[child_idx - n_samples]\n",
    "            counts[i] = current_count\n",
    "    \n",
    "        linkage_matrix = np.column_stack([self.hier_clust.children_, range(len(self.hier_clust.children_)),\n",
    "                                          counts]).astype(float)\n",
    "    \n",
    "        # Plot the corresponding dendrogram\n",
    "        dendrogram(linkage_matrix)\n",
    "    \n",
    "    def get_hier_clust_plot(self, grid=True, density=True, link_clusters=True, threshold=0.6):\n",
    "        if not self.fitted:\n",
    "            raise Exception(\"The hierarchical clusters need to be fitted before plotting! Use fit()!\")\n",
    "        plt.figure(figsize=(20,20))\n",
    "        # gets the default 10 color cycle from pyplot for coloring cluster labels and assigned points in the same color \n",
    "        colors = plt.rcParams['axes.prop_cycle'].by_key()['color']\n",
    "        plt.xlim(0 - 0.5, self.xdim - 0.5)\n",
    "        plt.ylim(0 - 0.5, self.ydim - 0.5)\n",
    "        plt.xticks(np.arange(0, self.xdim, 1))\n",
    "        plt.yticks(np.arange(0, self.ydim, 1))\n",
    "                \n",
    "        # colors only a proportion of the cell - proportion is dependent on the ratio between the cell and the cell with the highest density\n",
    "        max_dense_cell = np.max(self.weight_map)\n",
    "        for cluster_id in range(self.n_clusters):\n",
    "            if not density:\n",
    "                ratio = np.ones(len(self.unit_map))\n",
    "            else:\n",
    "                # sqrt is used because x and y axis get muliplied by ratio\n",
    "                ratio = np.sqrt(1. / max_dense_cell * \\\n",
    "                        self.weight_map[self.unit_map_cluster_assignment == cluster_id])\n",
    "            for unit_id, unit in \\\n",
    "                enumerate(self.unit_map[self.unit_map_cluster_assignment == cluster_id]):\n",
    "                plt.fill_between([unit[0] - (0.5 * ratio[unit_id]), \n",
    "                                  unit[0] + (0.5 * ratio[unit_id])], \n",
    "                                 [unit[1] - (0.5 * ratio[unit_id]), \n",
    "                                  unit[1] - (0.5 * ratio[unit_id])], \n",
    "                                 [unit[1] + (0.5 * ratio[unit_id]), \n",
    "                                  unit[1] + (0.5 * ratio[unit_id])],\n",
    "                                 color= colors[cluster_id % len(colors)])\n",
    "        \n",
    "        # draws the grid\n",
    "        if grid:\n",
    "            for v in range(self.xdim):\n",
    "                plt.plot([v - 0.5, v - 0.5], [0 - 0.5, self.ydim - 0.5], color=\"black\", linewidth=2)\n",
    "            for h in range(self.ydim):\n",
    "                plt.plot([0 - 0.5, self.xdim - 0.5], [h - 0.5, h - 0.5], color=\"black\", linewidth=2)\n",
    "        \n",
    "        # points are not shown ob the map, just for the legend to see which cluster has which color\n",
    "        for cluster_id in np.sort(np.unique(self.unit_map_cluster_assignment)):\n",
    "            plt.plot([-10],[-10],\n",
    "                     color= colors[cluster_id % len(colors)],\n",
    "                     label=\"Cluster {}\".format(cluster_id+1))\n",
    "        \n",
    "        plt.legend(loc='center left', bbox_to_anchor=(1.05, 0.5))\n",
    "        return plt\n",
    "        \n",
    "    def _create_unit_map(self):\n",
    "        \"\"\"\n",
    "        Internal method to create the unit map, \n",
    "        which is needed for the fitting of the hierarchical clustering algorithm\n",
    "        :return: None \n",
    "        \"\"\"\n",
    "        unit_map = []\n",
    "        weight_map = []\n",
    "        # create the map with only cells that are non empty\n",
    "        for cell in self.unit:\n",
    "            if cell['nr_vec_mapped'] != 0:\n",
    "                unit_map.append([cell['x'], cell['y'], cell['z']])\n",
    "                weight_map.append(cell['nr_vec_mapped'])\n",
    "        self.unit_map = np.array(unit_map)\n",
    "        self.weight_map = np.array(weight_map)\n",
    "     \n",
    "    def _load_unit_file(self, filePath:str):\n",
    "        \"\"\"\n",
    "        Internal Method to load the SOMLib UNIT-file.\n",
    "        :param filePath: path to the SOMLib UNIT-file without the file extension\n",
    "        :return: None\n",
    "        \"\"\"\n",
    "        try:\n",
    "            with open(filePath + '.unit', 'r') as file:\n",
    "                self.unit = []\n",
    "                \n",
    "                x, y, z = -1, -1, -1\n",
    "                unit_id = \"\"\n",
    "                quanterror_unit, quanterror_unit_avg = -1., 0.\n",
    "                nr_vec_mapped = -1\n",
    "                mapped_vecs = []\n",
    "                mapped_vecs_dist = []\n",
    "                \n",
    "                for line in file:\n",
    "                    # skip comments or not needed information\n",
    "                    if line[0] == '#' or \\\n",
    "                            line.lower().startswith('$type') or \\\n",
    "                            line.lower().startswith('$file_format_version') or \\\n",
    "                            line.lower().startswith('$mapped_vecs\\n'):\n",
    "                        continue\n",
    "                    # read global constants\n",
    "                    elif line.lower().startswith('$xdim'):\n",
    "                        self.xdim = int(line.strip().split(' ')[-1])\n",
    "                    elif line.lower().startswith('$ydim'):\n",
    "                        self.ydim = int(line.strip().split(' ')[-1])\n",
    "                    elif line.lower().startswith('$zdim'):\n",
    "                        self.zdim = int(line.strip().split(' ')[-1])\n",
    "                    elif line.lower().startswith('$vec_dim'):\n",
    "                        self.vec_dim = int(line.strip().split(' ')[-1])\n",
    "                    # read cell constants \n",
    "                    elif line.lower().startswith('$pos_x'):\n",
    "                        x = int(line.strip().split(' ')[-1])\n",
    "                    elif line.lower().startswith('$pos_y'):\n",
    "                        y = int(line.strip().split(' ')[-1])\n",
    "                    elif line.lower().startswith('$pos_z'):\n",
    "                        z = int(line.strip().split(' ')[-1])\n",
    "                    elif line.lower().startswith('$unit_id'):\n",
    "                        unit_id = line.strip().split(' ')[-1]\n",
    "                    elif line.lower().startswith('$quanterror_unit'):\n",
    "                        quanterror_unit = float(line.strip().split(' ')[-1])\n",
    "                    elif line.lower().startswith('$quanterror_unit_avg'):\n",
    "                        quanterror_unit_avg = float(line.strip().split(' ')[-1])\n",
    "                        \n",
    "                    # a cell is done either if its empty after the number of assigen vectors, or if its not empty after the mapped vector distances\n",
    "                    elif line.lower().startswith('$nr_vec_mapped'):\n",
    "                        nr_vec_mapped = int(line.strip().split(' ')[-1])\n",
    "                        if nr_vec_mapped is 0:\n",
    "                            self._add_to_unit(unit_id=unit_id, x=x, y=y, z=z, \n",
    "                                          quanterror_unit=quanterror_unit, \n",
    "                                          quanterror_unit_avg=quanterror_unit_avg, \n",
    "                                          nr_vec_mapped=nr_vec_mapped, \n",
    "                                          mapped_vecs=mapped_vecs, \n",
    "                                          mapped_vecs_dist=mapped_vecs_dist)\n",
    "                            x, y, z = -1, -1, -1\n",
    "                            unit_id = \"\"\n",
    "                            quanterror_unit, quanterror_unit_avg = -1., 0.\n",
    "                            nr_vec_mapped = -1\n",
    "                            mapped_vecs = []\n",
    "                            mapped_vecs_dist = []\n",
    "                    elif line.lower().startswith('$mapped_vecs_dist'):\n",
    "                        mapped_vecs_dist.append(list(map(float, line.strip().split(' ')[1:])))\n",
    "                        self._add_to_unit(unit_id=unit_id, x=x, y=y, z=z, \n",
    "                                          quanterror_unit=quanterror_unit, \n",
    "                                          quanterror_unit_avg=quanterror_unit_avg, \n",
    "                                          nr_vec_mapped=nr_vec_mapped, \n",
    "                                          mapped_vecs=mapped_vecs, \n",
    "                                          mapped_vecs_dist=mapped_vecs_dist)\n",
    "                        x, y, z = -1, -1, -1\n",
    "                        unit_id = \"\"\n",
    "                        quanterror_unit, quanterror_unit_avg = -1., 0.\n",
    "                        nr_vec_mapped = -1\n",
    "                        mapped_vecs = []\n",
    "                        mapped_vecs_dist = []\n",
    "                    else:\n",
    "                        # the assigned vertices are not indicated by a line beginning and are a reference to the index\n",
    "                        mapped_vecs.append(int(line.strip()))\n",
    "        except OSError:\n",
    "            raise Exception('File {} couldn\\'t be opened'.format(filePath + '.map'))\n",
    "        \n",
    "    def _add_to_unit(self, unit_id, x, y, z, quanterror_unit, \n",
    "                     quanterror_unit_avg, nr_vec_mapped, mapped_vecs, \n",
    "                     mapped_vecs_dist):\n",
    "        \"\"\"\n",
    "        Creates a UNIT with all properties from the SOMLib UNIT-file and adds it to the units-List\n",
    "        :param unit_id: unit_id of the unit\n",
    "        :param x: X-coordinate of the unit\n",
    "        :param y: Y-coordinate of the unit\n",
    "        :param z: Z-coordinate of the unit\n",
    "        :param quanterror_unit: Quant error of the unit\n",
    "        :param quanterror_unit_avg: Average quant error of the unit\n",
    "        :param nr_vec_mapped: Number of mapped vertices to this unit\n",
    "        :param mapped_vecs: List of mapped vertices of the unit\n",
    "        :param mapped_vecs_dist: List of the mapped vertices distance\n",
    "        :return: None\n",
    "        \"\"\"\n",
    "        self.unit.append({\n",
    "            'unit_id': unit_id,\n",
    "            'x': x,\n",
    "            'y': y, \n",
    "            'z': z,\n",
    "            'quanterror_unit': quanterror_unit,\n",
    "            'quanterror_unit_avg': quanterror_unit_avg,\n",
    "            'nr_vec_mapped': nr_vec_mapped,\n",
    "            'mapped_vecs': mapped_vecs,\n",
    "            'mapped_vecs_dist': mapped_vecs_dist\n",
    "        })\n",
    "    \n",
    "    def _load_wgt_file(self, filePath:str):\n",
    "        \"\"\"\n",
    "        Loads the SOMLib WGT-file:\n",
    "        ATTENTION: Currently not implemented!\n",
    "        :param filePath: path to the SOMLib WGT-file without the file extension\n",
    "        :return: None\n",
    "        \"\"\"\n",
    "        try:\n",
    "            with open(filePath + '.wgt', 'r') as file:\n",
    "                for line in file:\n",
    "                    if line[0] == '#' or line.lower().startswith('$type'):\n",
    "                        continue\n",
    "                    elif line.lower().startswith('$xdim'):\n",
    "                        self.xdim = int(line.strip().split(' ')[-1])\n",
    "                    elif line.lower().startswith('$ydim'):\n",
    "                        self.ydim = int(line.strip().split(' ')[-1])\n",
    "                    elif line.lower().startswith('$zdim'):\n",
    "                        self.zdim = int(line.strip().split(' ')[-1])\n",
    "                    elif line.lower().startswith('$vec_dim'):\n",
    "                        self.vec_dim = int(line.strip().split(' ')[-1])\n",
    "                    else:\n",
    "                        #the rest is not implemented as it is not needed\n",
    "                        raise NotImplemented()                       \n",
    "        except OSError:\n",
    "            raise Exception('File {} couldn\\'t be opened'.format(filePath + '.map'))\n",
    "\n",
    "    def _load_map_file(self, filePath:str):\n",
    "        \"\"\"\n",
    "        Loads the SOMLib MAP-file:\n",
    "        ATTENTION: Currently not implemented!\n",
    "        :param filePath: path to the SOMLib MAP-file without the file extension\n",
    "        :return: None\n",
    "        \"\"\"\n",
    "        try:\n",
    "            raise NotImplemented()\n",
    "        except OSError:\n",
    "            raise Exception('File {} couldn\\'t be opened'.format(filePath + '.map'))\n",
    "    "
   ]
  },
  {
   "cell_type": "markdown",
   "metadata": {},
   "source": [
    "## Example section"
   ]
  },
  {
   "cell_type": "markdown",
   "metadata": {},
   "source": [
    "### provide some static variables"
   ]
  },
  {
   "cell_type": "code",
   "execution_count": 12,
   "metadata": {
    "pycharm": {
     "is_executing": false,
     "name": "#%%\n"
    }
   },
   "outputs": [],
   "source": [
    "path_10clusters = 'data/10clusters/output/10clusters'\n",
    "path_chainlink = 'data/chainlink/output/chainlink'\n",
    "path_10clusters_own = 'data/10clusters/output/10clusters_{}_{}_{}_{}_pca'\n",
    "path_chainlink_own = 'data/chainlink/output/chainlink_{}_{}_{}_{}_pca'\n",
    "\n",
    "sizes = [(20, 25), (100, 60)]\n",
    "sigmas = [0.1, 2.3, 10]\n",
    "learning_rates = [0.01, 0.2, 5]"
   ]
  },
  {
   "cell_type": "markdown",
   "metadata": {},
   "source": [
    "### 10clusters dataset"
   ]
  },
  {
   "cell_type": "code",
   "execution_count": 13,
   "metadata": {
    "pycharm": {
     "is_executing": false,
     "name": "#%%\n"
    }
   },
   "outputs": [
    {
     "ename": "Exception",
     "evalue": "File data/10clusters/output/10clusters.map couldn't be opened",
     "output_type": "error",
     "traceback": [
      "\u001b[1;31m---------------------------------------------------------------------------\u001b[0m",
      "\u001b[1;31mFileNotFoundError\u001b[0m                         Traceback (most recent call last)",
      "\u001b[1;32m<ipython-input-2-4093ad003808>\u001b[0m in \u001b[0;36m_load_unit_file\u001b[1;34m(self, filePath)\u001b[0m\n\u001b[0;32m    188\u001b[0m         \u001b[1;32mtry\u001b[0m\u001b[1;33m:\u001b[0m\u001b[1;33m\u001b[0m\u001b[1;33m\u001b[0m\u001b[0m\n\u001b[1;32m--> 189\u001b[1;33m             \u001b[1;32mwith\u001b[0m \u001b[0mopen\u001b[0m\u001b[1;33m(\u001b[0m\u001b[0mfilePath\u001b[0m \u001b[1;33m+\u001b[0m \u001b[1;34m'.unit'\u001b[0m\u001b[1;33m,\u001b[0m \u001b[1;34m'r'\u001b[0m\u001b[1;33m)\u001b[0m \u001b[1;32mas\u001b[0m \u001b[0mfile\u001b[0m\u001b[1;33m:\u001b[0m\u001b[1;33m\u001b[0m\u001b[1;33m\u001b[0m\u001b[0m\n\u001b[0m\u001b[0;32m    190\u001b[0m                 \u001b[0mself\u001b[0m\u001b[1;33m.\u001b[0m\u001b[0munit\u001b[0m \u001b[1;33m=\u001b[0m \u001b[1;33m[\u001b[0m\u001b[1;33m]\u001b[0m\u001b[1;33m\u001b[0m\u001b[1;33m\u001b[0m\u001b[0m\n",
      "\u001b[1;31mFileNotFoundError\u001b[0m: [Errno 2] No such file or directory: 'data/10clusters/output/10clusters.unit'",
      "\nDuring handling of the above exception, another exception occurred:\n",
      "\u001b[1;31mException\u001b[0m                                 Traceback (most recent call last)",
      "\u001b[1;32m<ipython-input-13-e92edfc9aab4>\u001b[0m in \u001b[0;36m<module>\u001b[1;34m\u001b[0m\n\u001b[0;32m      1\u001b[0m clusters_hier_clust = MyHierarchicalClusteringOnSOMLib(n_clusters=10, linkage='single', \n\u001b[0;32m      2\u001b[0m                                                   distance_threshold=None, random_state=42)\n\u001b[1;32m----> 3\u001b[1;33m \u001b[0mclusters_hier_clust\u001b[0m\u001b[1;33m.\u001b[0m\u001b[0mload_files\u001b[0m\u001b[1;33m(\u001b[0m\u001b[0mfilePath\u001b[0m\u001b[1;33m=\u001b[0m\u001b[0mpath_10clusters\u001b[0m\u001b[1;33m)\u001b[0m\u001b[1;33m\u001b[0m\u001b[1;33m\u001b[0m\u001b[0m\n\u001b[0m\u001b[0;32m      4\u001b[0m \u001b[0mclusters_hier_clust\u001b[0m\u001b[1;33m.\u001b[0m\u001b[0mfit\u001b[0m\u001b[1;33m(\u001b[0m\u001b[1;33m)\u001b[0m\u001b[1;33m\u001b[0m\u001b[1;33m\u001b[0m\u001b[0m\n",
      "\u001b[1;32m<ipython-input-2-4093ad003808>\u001b[0m in \u001b[0;36mload_files\u001b[1;34m(self, filePath)\u001b[0m\n\u001b[0;32m     65\u001b[0m             \u001b[0mfilePath\u001b[0m \u001b[1;33m=\u001b[0m \u001b[1;34m''\u001b[0m\u001b[1;33m.\u001b[0m\u001b[0mjoin\u001b[0m\u001b[1;33m(\u001b[0m\u001b[0mfilePath\u001b[0m\u001b[1;33m.\u001b[0m\u001b[0msplit\u001b[0m\u001b[1;33m(\u001b[0m\u001b[1;34m'.'\u001b[0m\u001b[1;33m)\u001b[0m\u001b[1;33m[\u001b[0m\u001b[1;33m:\u001b[0m\u001b[1;33m-\u001b[0m\u001b[1;36m1\u001b[0m\u001b[1;33m]\u001b[0m\u001b[1;33m)\u001b[0m\u001b[1;33m\u001b[0m\u001b[1;33m\u001b[0m\u001b[0m\n\u001b[0;32m     66\u001b[0m         \u001b[1;31m# load data from the unit file\u001b[0m\u001b[1;33m\u001b[0m\u001b[1;33m\u001b[0m\u001b[1;33m\u001b[0m\u001b[0m\n\u001b[1;32m---> 67\u001b[1;33m         \u001b[0mself\u001b[0m\u001b[1;33m.\u001b[0m\u001b[0m_load_unit_file\u001b[0m\u001b[1;33m(\u001b[0m\u001b[0mfilePath\u001b[0m\u001b[1;33m)\u001b[0m\u001b[1;33m\u001b[0m\u001b[1;33m\u001b[0m\u001b[0m\n\u001b[0m\u001b[0;32m     68\u001b[0m         \u001b[1;31m#self._load_wgt_file(filePath)\u001b[0m\u001b[1;33m\u001b[0m\u001b[1;33m\u001b[0m\u001b[1;33m\u001b[0m\u001b[0m\n\u001b[0;32m     69\u001b[0m         \u001b[1;31m#self._load_map_file(filePath)\u001b[0m\u001b[1;33m\u001b[0m\u001b[1;33m\u001b[0m\u001b[1;33m\u001b[0m\u001b[0m\n",
      "\u001b[1;32m<ipython-input-2-4093ad003808>\u001b[0m in \u001b[0;36m_load_unit_file\u001b[1;34m(self, filePath)\u001b[0m\n\u001b[0;32m    261\u001b[0m                         \u001b[0mmapped_vecs\u001b[0m\u001b[1;33m.\u001b[0m\u001b[0mappend\u001b[0m\u001b[1;33m(\u001b[0m\u001b[0mint\u001b[0m\u001b[1;33m(\u001b[0m\u001b[0mline\u001b[0m\u001b[1;33m.\u001b[0m\u001b[0mstrip\u001b[0m\u001b[1;33m(\u001b[0m\u001b[1;33m)\u001b[0m\u001b[1;33m)\u001b[0m\u001b[1;33m)\u001b[0m\u001b[1;33m\u001b[0m\u001b[1;33m\u001b[0m\u001b[0m\n\u001b[0;32m    262\u001b[0m         \u001b[1;32mexcept\u001b[0m \u001b[0mOSError\u001b[0m\u001b[1;33m:\u001b[0m\u001b[1;33m\u001b[0m\u001b[1;33m\u001b[0m\u001b[0m\n\u001b[1;32m--> 263\u001b[1;33m             \u001b[1;32mraise\u001b[0m \u001b[0mException\u001b[0m\u001b[1;33m(\u001b[0m\u001b[1;34m'File {} couldn\\'t be opened'\u001b[0m\u001b[1;33m.\u001b[0m\u001b[0mformat\u001b[0m\u001b[1;33m(\u001b[0m\u001b[0mfilePath\u001b[0m \u001b[1;33m+\u001b[0m \u001b[1;34m'.map'\u001b[0m\u001b[1;33m)\u001b[0m\u001b[1;33m)\u001b[0m\u001b[1;33m\u001b[0m\u001b[1;33m\u001b[0m\u001b[0m\n\u001b[0m\u001b[0;32m    264\u001b[0m \u001b[1;33m\u001b[0m\u001b[0m\n\u001b[0;32m    265\u001b[0m     def _add_to_unit(self, unit_id, x, y, z, quanterror_unit, \n",
      "\u001b[1;31mException\u001b[0m: File data/10clusters/output/10clusters.map couldn't be opened"
     ]
    }
   ],
   "source": [
    "clusters_hier_clust = MyHierarchicalClusteringOnSOMLib(n_clusters=10, linkage='single', \n",
    "                                                  distance_threshold=None, random_state=42)\n",
    "clusters_hier_clust.load_files(filePath=path_10clusters)\n",
    "clusters_hier_clust.fit() "
   ]
  },
  {
   "cell_type": "code",
   "execution_count": 14,
   "metadata": {
    "pycharm": {
     "is_executing": false,
     "name": "#%%\n"
    }
   },
   "outputs": [
    {
     "ename": "AttributeError",
     "evalue": "'AgglomerativeClustering' object has no attribute 'children_'",
     "output_type": "error",
     "traceback": [
      "\u001b[1;31m---------------------------------------------------------------------------\u001b[0m",
      "\u001b[1;31mAttributeError\u001b[0m                            Traceback (most recent call last)",
      "\u001b[1;32m<ipython-input-14-3801ae154214>\u001b[0m in \u001b[0;36m<module>\u001b[1;34m\u001b[0m\n\u001b[1;32m----> 1\u001b[1;33m \u001b[0mclusters_hier_clust\u001b[0m\u001b[1;33m.\u001b[0m\u001b[0mplot_dendrogram\u001b[0m\u001b[1;33m(\u001b[0m\u001b[1;33m)\u001b[0m\u001b[1;33m\u001b[0m\u001b[1;33m\u001b[0m\u001b[0m\n\u001b[0m",
      "\u001b[1;32m<ipython-input-2-4093ad003808>\u001b[0m in \u001b[0;36mplot_dendrogram\u001b[1;34m(self)\u001b[0m\n\u001b[0;32m    101\u001b[0m         \u001b[1;31m# Create linkage matrix and then plot the dendrogram\u001b[0m\u001b[1;33m\u001b[0m\u001b[1;33m\u001b[0m\u001b[1;33m\u001b[0m\u001b[0m\n\u001b[0;32m    102\u001b[0m         \u001b[1;31m# create the counts of samples under each node\u001b[0m\u001b[1;33m\u001b[0m\u001b[1;33m\u001b[0m\u001b[1;33m\u001b[0m\u001b[0m\n\u001b[1;32m--> 103\u001b[1;33m         \u001b[0mcounts\u001b[0m \u001b[1;33m=\u001b[0m \u001b[0mnp\u001b[0m\u001b[1;33m.\u001b[0m\u001b[0mzeros\u001b[0m\u001b[1;33m(\u001b[0m\u001b[0mself\u001b[0m\u001b[1;33m.\u001b[0m\u001b[0mhier_clust\u001b[0m\u001b[1;33m.\u001b[0m\u001b[0mchildren_\u001b[0m\u001b[1;33m.\u001b[0m\u001b[0mshape\u001b[0m\u001b[1;33m[\u001b[0m\u001b[1;36m0\u001b[0m\u001b[1;33m]\u001b[0m\u001b[1;33m)\u001b[0m\u001b[1;33m\u001b[0m\u001b[1;33m\u001b[0m\u001b[0m\n\u001b[0m\u001b[0;32m    104\u001b[0m         \u001b[0mn_samples\u001b[0m \u001b[1;33m=\u001b[0m \u001b[0mlen\u001b[0m\u001b[1;33m(\u001b[0m\u001b[0mself\u001b[0m\u001b[1;33m.\u001b[0m\u001b[0mhier_clust\u001b[0m\u001b[1;33m.\u001b[0m\u001b[0mlabels_\u001b[0m\u001b[1;33m)\u001b[0m\u001b[1;33m\u001b[0m\u001b[1;33m\u001b[0m\u001b[0m\n\u001b[0;32m    105\u001b[0m         \u001b[1;32mfor\u001b[0m \u001b[0mi\u001b[0m\u001b[1;33m,\u001b[0m \u001b[0mmerge\u001b[0m \u001b[1;32min\u001b[0m \u001b[0menumerate\u001b[0m\u001b[1;33m(\u001b[0m\u001b[0mself\u001b[0m\u001b[1;33m.\u001b[0m\u001b[0mhier_clust\u001b[0m\u001b[1;33m.\u001b[0m\u001b[0mchildren_\u001b[0m\u001b[1;33m)\u001b[0m\u001b[1;33m:\u001b[0m\u001b[1;33m\u001b[0m\u001b[1;33m\u001b[0m\u001b[0m\n",
      "\u001b[1;31mAttributeError\u001b[0m: 'AgglomerativeClustering' object has no attribute 'children_'"
     ]
    }
   ],
   "source": [
    "clusters_hier_clust.plot_dendrogram()"
   ]
  },
  {
   "cell_type": "code",
   "execution_count": 8,
   "metadata": {
    "pycharm": {
     "is_executing": false,
     "name": "#%%\n"
    }
   },
   "outputs": [
    {
     "data": {
      "image/png": "[encoded data removed]",
      "text/plain": [
       "<Figure size 1440x1440 with 1 Axes>"
      ]
     },
     "metadata": {
      "needs_background": "light"
     },
     "output_type": "display_data"
    }
   ],
   "source": [
    "clusters_hier_clust.get_hier_clust_plot(grid=True, density=True, link_clusters=True, threshold=0.7).show()\n"
   ]
  },
  {
   "cell_type": "code",
   "execution_count": 11,
   "metadata": {
    "pycharm": {
     "name": "#%%\n"
    }
   },
   "outputs": [
    {
     "ename": "Exception",
     "evalue": "File C:/Users/smola/Desktop/SOM-master/SOM-master/data/10clusters/output/10clusters_20_25_0.1_0.01_pca.map couldn't be opened",
     "output_type": "error",
     "traceback": [
      "\u001b[1;31m---------------------------------------------------------------------------\u001b[0m",
      "\u001b[1;31mFileNotFoundError\u001b[0m                         Traceback (most recent call last)",
      "\u001b[1;32m<ipython-input-2-4093ad003808>\u001b[0m in \u001b[0;36m_load_unit_file\u001b[1;34m(self, filePath)\u001b[0m\n\u001b[0;32m    188\u001b[0m         \u001b[1;32mtry\u001b[0m\u001b[1;33m:\u001b[0m\u001b[1;33m\u001b[0m\u001b[1;33m\u001b[0m\u001b[0m\n\u001b[1;32m--> 189\u001b[1;33m             \u001b[1;32mwith\u001b[0m \u001b[0mopen\u001b[0m\u001b[1;33m(\u001b[0m\u001b[0mfilePath\u001b[0m \u001b[1;33m+\u001b[0m \u001b[1;34m'.unit'\u001b[0m\u001b[1;33m,\u001b[0m \u001b[1;34m'r'\u001b[0m\u001b[1;33m)\u001b[0m \u001b[1;32mas\u001b[0m \u001b[0mfile\u001b[0m\u001b[1;33m:\u001b[0m\u001b[1;33m\u001b[0m\u001b[1;33m\u001b[0m\u001b[0m\n\u001b[0m\u001b[0;32m    190\u001b[0m                 \u001b[0mself\u001b[0m\u001b[1;33m.\u001b[0m\u001b[0munit\u001b[0m \u001b[1;33m=\u001b[0m \u001b[1;33m[\u001b[0m\u001b[1;33m]\u001b[0m\u001b[1;33m\u001b[0m\u001b[1;33m\u001b[0m\u001b[0m\n",
      "\u001b[1;31mFileNotFoundError\u001b[0m: [Errno 2] No such file or directory: 'C:/Users/smola/Desktop/SOM-master/SOM-master/data/10clusters/output/10clusters_20_25_0.1_0.01_pca.unit'",
      "\nDuring handling of the above exception, another exception occurred:\n",
      "\u001b[1;31mException\u001b[0m                                 Traceback (most recent call last)",
      "\u001b[1;32m<ipython-input-11-feb217fee1b3>\u001b[0m in \u001b[0;36m<module>\u001b[1;34m\u001b[0m\n\u001b[0;32m      9\u001b[0m                     \u001b[0my\u001b[0m\u001b[1;33m,\u001b[0m\u001b[1;33m\u001b[0m\u001b[1;33m\u001b[0m\u001b[0m\n\u001b[0;32m     10\u001b[0m                     \u001b[0msigma\u001b[0m\u001b[1;33m,\u001b[0m\u001b[1;33m\u001b[0m\u001b[1;33m\u001b[0m\u001b[0m\n\u001b[1;32m---> 11\u001b[1;33m                     \u001b[0mlearning_rate\u001b[0m\u001b[1;33m\u001b[0m\u001b[1;33m\u001b[0m\u001b[0m\n\u001b[0m\u001b[0;32m     12\u001b[0m                 ))\n\u001b[0;32m     13\u001b[0m             \u001b[1;32mtry\u001b[0m\u001b[1;33m:\u001b[0m\u001b[1;33m\u001b[0m\u001b[1;33m\u001b[0m\u001b[0m\n",
      "\u001b[1;32m<ipython-input-2-4093ad003808>\u001b[0m in \u001b[0;36mload_files\u001b[1;34m(self, filePath)\u001b[0m\n\u001b[0;32m     65\u001b[0m             \u001b[0mfilePath\u001b[0m \u001b[1;33m=\u001b[0m \u001b[1;34m''\u001b[0m\u001b[1;33m.\u001b[0m\u001b[0mjoin\u001b[0m\u001b[1;33m(\u001b[0m\u001b[0mfilePath\u001b[0m\u001b[1;33m.\u001b[0m\u001b[0msplit\u001b[0m\u001b[1;33m(\u001b[0m\u001b[1;34m'.'\u001b[0m\u001b[1;33m)\u001b[0m\u001b[1;33m[\u001b[0m\u001b[1;33m:\u001b[0m\u001b[1;33m-\u001b[0m\u001b[1;36m1\u001b[0m\u001b[1;33m]\u001b[0m\u001b[1;33m)\u001b[0m\u001b[1;33m\u001b[0m\u001b[1;33m\u001b[0m\u001b[0m\n\u001b[0;32m     66\u001b[0m         \u001b[1;31m# load data from the unit file\u001b[0m\u001b[1;33m\u001b[0m\u001b[1;33m\u001b[0m\u001b[1;33m\u001b[0m\u001b[0m\n\u001b[1;32m---> 67\u001b[1;33m         \u001b[0mself\u001b[0m\u001b[1;33m.\u001b[0m\u001b[0m_load_unit_file\u001b[0m\u001b[1;33m(\u001b[0m\u001b[0mfilePath\u001b[0m\u001b[1;33m)\u001b[0m\u001b[1;33m\u001b[0m\u001b[1;33m\u001b[0m\u001b[0m\n\u001b[0m\u001b[0;32m     68\u001b[0m         \u001b[1;31m#self._load_wgt_file(filePath)\u001b[0m\u001b[1;33m\u001b[0m\u001b[1;33m\u001b[0m\u001b[1;33m\u001b[0m\u001b[0m\n\u001b[0;32m     69\u001b[0m         \u001b[1;31m#self._load_map_file(filePath)\u001b[0m\u001b[1;33m\u001b[0m\u001b[1;33m\u001b[0m\u001b[1;33m\u001b[0m\u001b[0m\n",
      "\u001b[1;32m<ipython-input-2-4093ad003808>\u001b[0m in \u001b[0;36m_load_unit_file\u001b[1;34m(self, filePath)\u001b[0m\n\u001b[0;32m    261\u001b[0m                         \u001b[0mmapped_vecs\u001b[0m\u001b[1;33m.\u001b[0m\u001b[0mappend\u001b[0m\u001b[1;33m(\u001b[0m\u001b[0mint\u001b[0m\u001b[1;33m(\u001b[0m\u001b[0mline\u001b[0m\u001b[1;33m.\u001b[0m\u001b[0mstrip\u001b[0m\u001b[1;33m(\u001b[0m\u001b[1;33m)\u001b[0m\u001b[1;33m)\u001b[0m\u001b[1;33m)\u001b[0m\u001b[1;33m\u001b[0m\u001b[1;33m\u001b[0m\u001b[0m\n\u001b[0;32m    262\u001b[0m         \u001b[1;32mexcept\u001b[0m \u001b[0mOSError\u001b[0m\u001b[1;33m:\u001b[0m\u001b[1;33m\u001b[0m\u001b[1;33m\u001b[0m\u001b[0m\n\u001b[1;32m--> 263\u001b[1;33m             \u001b[1;32mraise\u001b[0m \u001b[0mException\u001b[0m\u001b[1;33m(\u001b[0m\u001b[1;34m'File {} couldn\\'t be opened'\u001b[0m\u001b[1;33m.\u001b[0m\u001b[0mformat\u001b[0m\u001b[1;33m(\u001b[0m\u001b[0mfilePath\u001b[0m \u001b[1;33m+\u001b[0m \u001b[1;34m'.map'\u001b[0m\u001b[1;33m)\u001b[0m\u001b[1;33m)\u001b[0m\u001b[1;33m\u001b[0m\u001b[1;33m\u001b[0m\u001b[0m\n\u001b[0m\u001b[0;32m    264\u001b[0m \u001b[1;33m\u001b[0m\u001b[0m\n\u001b[0;32m    265\u001b[0m     def _add_to_unit(self, unit_id, x, y, z, quanterror_unit, \n",
      "\u001b[1;31mException\u001b[0m: File C:/Users/smola/Desktop/SOM-master/SOM-master/data/10clusters/output/10clusters_20_25_0.1_0.01_pca.map couldn't be opened"
     ]
    }
   ],
   "source": [
    "clusters10_hier_own = MyHierarchicalClusteringOnSOMLib(n_clusters=10, linkage='single', \n",
    "                                                  distance_threshold=None, random_state=42)\n",
    "for (x, y) in sizes:\n",
    "    for sigma in sigmas:\n",
    "        for learning_rate in learning_rates:\n",
    "            clusters10_hier_own.load_files(\n",
    "                filePath=path_10clusters_own.format(\n",
    "                    x,\n",
    "                    y,\n",
    "                    sigma,\n",
    "                    learning_rate\n",
    "                ))\n",
    "            try:\n",
    "                clusters10_hier_own.fit()\n",
    "                clusters10_hier_own.get_hier_clust_plot(title=\"10CLusters Dataset, sigma {} learn-rate {}\".format(sigma, learning_rate),grid=True, density=(x < 40) and (y < 40), link_clusters=False, threshold=1.2)\n",
    "            except ValueError:\n",
    "                print(\"The number of clusters is higher than the number of sampled -> can't be fitted\")\n"
   ]
  },
  {
   "cell_type": "code",
   "execution_count": null,
   "metadata": {},
   "outputs": [],
   "source": []
  },
  {
   "cell_type": "code",
   "execution_count": null,
   "metadata": {},
   "outputs": [],
   "source": []
  },
  {
   "cell_type": "code",
   "execution_count": null,
   "metadata": {},
   "outputs": [],
   "source": []
  }
 ],
 "metadata": {
  "kernelspec": {
   "display_name": "Python 3",
   "language": "python",
   "name": "python3"
  },
  "language_info": {
   "codemirror_mode": {
    "name": "ipython",
    "version": 3
   },
   "file_extension": ".py",
   "mimetype": "text/x-python",
   "name": "python",
   "nbconvert_exporter": "python",
   "pygments_lexer": "ipython3",
   "version": "3.7.4"
  },
  "pycharm": {
   "stem_cell": {
    "cell_type": "raw",
    "metadata": {
     "collapsed": false
    },
    "source": []
   }
  }
 },
 "nbformat": 4,
 "nbformat_minor": 1
}
